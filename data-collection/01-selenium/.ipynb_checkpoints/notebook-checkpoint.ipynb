{
 "cells": [
  {
   "cell_type": "code",
   "execution_count": 1,
   "id": "c47a28e5",
   "metadata": {},
   "outputs": [],
   "source": [
    "import time\n",
    "import pandas as pd\n",
    "\n",
    "from selenium import webdriver\n",
    "from selenium.webdriver.chrome.service import Service\n",
    "\n",
    "from webdriver_manager.chrome import ChromeDriverManager"
   ]
  },
  {
   "cell_type": "markdown",
   "id": "d889bcee",
   "metadata": {},
   "source": [
    "### Create driver"
   ]
  },
  {
   "cell_type": "code",
   "execution_count": 2,
   "id": "53e39d85",
   "metadata": {},
   "outputs": [],
   "source": [
    "driver = webdriver.Chrome(service=Service(ChromeDriverManager().install()))"
   ]
  },
  {
   "cell_type": "code",
   "execution_count": 3,
   "id": "5807fd83",
   "metadata": {},
   "outputs": [],
   "source": [
    "page_url = \"https://myheroacademia.fandom.com/wiki/Story_Arcs\"\n",
    "driver.get(page_url)"
   ]
  },
  {
   "cell_type": "code",
   "execution_count": 4,
   "id": "0035e449",
   "metadata": {},
   "outputs": [],
   "source": [
    "from selenium.webdriver.common.by import By\n",
    "\n",
    "episodes = [driver.find_element(By.XPATH, f\"//a[@title='Episode {i}']\") for i in range(1, 113)]"
   ]
  },
  {
   "cell_type": "code",
   "execution_count": 5,
   "id": "5985db79",
   "metadata": {},
   "outputs": [
    {
     "data": {
      "text/plain": [
       "[<selenium.webdriver.remote.webelement.WebElement (session=\"2d0870c9cdbb9e03169104a1871d0561\", element=\"1d547a01-a2d0-4c26-87c5-9168f23f7828\")>,\n",
       " <selenium.webdriver.remote.webelement.WebElement (session=\"2d0870c9cdbb9e03169104a1871d0561\", element=\"ae0d25de-ada9-4b60-8aaf-5b39f0139a29\")>,\n",
       " <selenium.webdriver.remote.webelement.WebElement (session=\"2d0870c9cdbb9e03169104a1871d0561\", element=\"aaa26cbb-48cf-432b-aa2d-1f9abbf315a2\")>,\n",
       " <selenium.webdriver.remote.webelement.WebElement (session=\"2d0870c9cdbb9e03169104a1871d0561\", element=\"2cf997a1-7d8c-48d2-bd87-108d45b9769c\")>,\n",
       " <selenium.webdriver.remote.webelement.WebElement (session=\"2d0870c9cdbb9e03169104a1871d0561\", element=\"1f2f6926-58e8-4b7e-9655-a4ef7660191f\")>]"
      ]
     },
     "execution_count": 5,
     "metadata": {},
     "output_type": "execute_result"
    }
   ],
   "source": [
    "episodes[:5]"
   ]
  },
  {
   "cell_type": "code",
   "execution_count": 6,
   "id": "1240e87f",
   "metadata": {},
   "outputs": [
    {
     "data": {
      "text/plain": [
       "112"
      ]
     },
     "execution_count": 6,
     "metadata": {},
     "output_type": "execute_result"
    }
   ],
   "source": [
    "len(episodes)"
   ]
  },
  {
   "cell_type": "code",
   "execution_count": 7,
   "id": "ba5546d2",
   "metadata": {},
   "outputs": [
    {
     "data": {
      "text/plain": [
       "'Izuku Midoriya: Origin'"
      ]
     },
     "execution_count": 7,
     "metadata": {},
     "output_type": "execute_result"
    }
   ],
   "source": [
    "episodes[0].text"
   ]
  },
  {
   "cell_type": "code",
   "execution_count": 8,
   "id": "edb7b5d5",
   "metadata": {},
   "outputs": [
    {
     "data": {
      "text/plain": [
       "'https://myheroacademia.fandom.com/wiki/Episode_1'"
      ]
     },
     "execution_count": 8,
     "metadata": {},
     "output_type": "execute_result"
    }
   ],
   "source": [
    "episodes[0].get_attribute('href')"
   ]
  },
  {
   "cell_type": "code",
   "execution_count": 9,
   "id": "c8b509ba",
   "metadata": {},
   "outputs": [],
   "source": [
    "driver.get(episodes[0].get_attribute('href'))"
   ]
  },
  {
   "cell_type": "code",
   "execution_count": 19,
   "id": "6ba4062a",
   "metadata": {},
   "outputs": [],
   "source": [
    "lists_characters = driver.find_element(By.XPATH, \"//span[@id='Characters_in_Order_of_Appearance']/parent::h2/following-sibling::div/ul\")"
   ]
  },
  {
   "cell_type": "code",
   "execution_count": 20,
   "id": "2be44f76",
   "metadata": {},
   "outputs": [],
   "source": [
    "characters = lists_characters.find_elements(By.XPATH, \"./li\")"
   ]
  },
  {
   "cell_type": "code",
   "execution_count": 22,
   "id": "5b584351",
   "metadata": {},
   "outputs": [
    {
     "data": {
      "text/plain": [
       "13"
      ]
     },
     "execution_count": 22,
     "metadata": {},
     "output_type": "execute_result"
    }
   ],
   "source": [
    "len(characters)"
   ]
  },
  {
   "cell_type": "code",
   "execution_count": 27,
   "id": "5adc957e",
   "metadata": {},
   "outputs": [
    {
     "name": "stdout",
     "output_type": "stream",
     "text": [
      "Izuku Midoriya\n",
      "Tsubasa (Flashback)\n",
      "Katsuki Bakugo\n",
      "Giant Villain\n",
      "Luminescent Baby (Flashback)\n",
      "All Might\n",
      "Death Arms\n",
      "Backdraft\n",
      "Kamui Woods\n",
      "Mt. Lady\n",
      "Sludge Villain\n",
      "Inko Midoriya (Flashback)\n",
      "Hisashi Midoriya (Mentioned)\n"
     ]
    }
   ],
   "source": [
    "appearance_lst = []\n",
    "for c in characters:\n",
    "    print(c.text)\n",
    "    text = c.text\n",
    "    if text.endswith('(Flashback)'):\n",
    "        appearance_lst.append([1, text.replace(' (Flashback)', ''), 'Flashback'])\n",
    "    elif text.endswith('(Mentioned)'):\n",
    "        appearance_lst.append([1, text.replace(' (Mentioned)', ''), 'Mentioned'])\n",
    "    else:\n",
    "        appearance_lst.append([1, text, 'Direct'])"
   ]
  },
  {
   "cell_type": "code",
   "execution_count": 28,
   "id": "023af50a",
   "metadata": {},
   "outputs": [
    {
     "data": {
      "text/plain": [
       "[['Izuku Midoriya', 'Direct'],\n",
       " ['Tsubasa', 'Flashback'],\n",
       " ['Katsuki Bakugo', 'Direct'],\n",
       " ['Giant Villain', 'Direct'],\n",
       " ['Luminescent Baby', 'Flashback'],\n",
       " ['All Might', 'Direct'],\n",
       " ['Death Arms', 'Direct'],\n",
       " ['Backdraft', 'Direct'],\n",
       " ['Kamui Woods', 'Direct'],\n",
       " ['Mt. Lady', 'Direct'],\n",
       " ['Sludge Villain', 'Direct'],\n",
       " ['Inko Midoriya', 'Flashback'],\n",
       " ['Hisashi Midoriya', 'Mentioned']]"
      ]
     },
     "execution_count": 28,
     "metadata": {},
     "output_type": "execute_result"
    }
   ],
   "source": [
    "appearance_lst"
   ]
  },
  {
   "cell_type": "code",
   "execution_count": null,
   "id": "d0d21506",
   "metadata": {},
   "outputs": [],
   "source": []
  }
 ],
 "metadata": {
  "kernelspec": {
   "display_name": "Python 3 (ipykernel)",
   "language": "python",
   "name": "python3"
  },
  "language_info": {
   "codemirror_mode": {
    "name": "ipython",
    "version": 3
   },
   "file_extension": ".py",
   "mimetype": "text/x-python",
   "name": "python",
   "nbconvert_exporter": "python",
   "pygments_lexer": "ipython3",
   "version": "3.9.11"
  }
 },
 "nbformat": 4,
 "nbformat_minor": 5
}
