{
 "cells": [
  {
   "cell_type": "markdown",
   "id": "a29463a6-27e3-4aad-8354-66f84477d506",
   "metadata": {},
   "source": [
    "# Pyspark basics\n",
    "\n",
    "This notebook demonstrates the basics operations of working with Pyspark Dataframe."
   ]
  },
  {
   "cell_type": "code",
   "execution_count": null,
   "id": "9d753dfd-2c78-402d-8aca-b96b25a68a5c",
   "metadata": {},
   "outputs": [],
   "source": []
  }
 ],
 "metadata": {
  "kernelspec": {
   "display_name": "Python 3 (ipykernel)",
   "language": "python",
   "name": "python3"
  },
  "language_info": {
   "codemirror_mode": {
    "name": "ipython",
    "version": 3
   },
   "file_extension": ".py",
   "mimetype": "text/x-python",
   "name": "python",
   "nbconvert_exporter": "python",
   "pygments_lexer": "ipython3",
   "version": "3.9.11"
  }
 },
 "nbformat": 4,
 "nbformat_minor": 5
}
